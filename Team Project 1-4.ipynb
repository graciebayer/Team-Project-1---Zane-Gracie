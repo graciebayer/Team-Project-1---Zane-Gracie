{
 "cells": [
  {
   "cell_type": "markdown",
   "id": "43ca0ec8",
   "metadata": {},
   "source": [
    "# Team Project 1\n",
    "### Zane Brown and Gracie Bayer"
   ]
  },
  {
   "cell_type": "code",
   "execution_count": 228,
   "id": "98986cd0",
   "metadata": {},
   "outputs": [],
   "source": [
    "import numpy as np\n",
    "import pandas as pd\n",
    "import seaborn as sns\n",
    "import matplotlib.pyplot as plt\n",
    "import sklearn"
   ]
  },
  {
   "cell_type": "code",
   "execution_count": 229,
   "id": "74612bac",
   "metadata": {},
   "outputs": [
    {
     "name": "stdout",
     "output_type": "stream",
     "text": [
      "1.20.1\n",
      "1.2.4\n",
      "0.11.1\n",
      "0.24.1\n"
     ]
    }
   ],
   "source": [
    "print(np.__version__)\n",
    "print(pd.__version__)\n",
    "print(sns.__version__)\n",
    "print(sklearn.__version__)"
   ]
  },
  {
   "cell_type": "code",
   "execution_count": 230,
   "id": "1ca48209",
   "metadata": {},
   "outputs": [],
   "source": [
    "data=pd.read_csv('CarPrice_Assignment.csv')"
   ]
  },
  {
   "cell_type": "code",
   "execution_count": 231,
   "id": "e1843fed",
   "metadata": {},
   "outputs": [
    {
     "data": {
      "text/html": [
       "<div>\n",
       "<style scoped>\n",
       "    .dataframe tbody tr th:only-of-type {\n",
       "        vertical-align: middle;\n",
       "    }\n",
       "\n",
       "    .dataframe tbody tr th {\n",
       "        vertical-align: top;\n",
       "    }\n",
       "\n",
       "    .dataframe thead th {\n",
       "        text-align: right;\n",
       "    }\n",
       "</style>\n",
       "<table border=\"1\" class=\"dataframe\">\n",
       "  <thead>\n",
       "    <tr style=\"text-align: right;\">\n",
       "      <th></th>\n",
       "      <th>doornumber</th>\n",
       "      <th>carbody</th>\n",
       "      <th>drivewheel</th>\n",
       "      <th>cylindernumber</th>\n",
       "      <th>horsepower</th>\n",
       "      <th>citympg</th>\n",
       "      <th>highwaympg</th>\n",
       "      <th>price</th>\n",
       "    </tr>\n",
       "  </thead>\n",
       "  <tbody>\n",
       "    <tr>\n",
       "      <th>0</th>\n",
       "      <td>2</td>\n",
       "      <td>convertible</td>\n",
       "      <td>rwd</td>\n",
       "      <td>four</td>\n",
       "      <td>111</td>\n",
       "      <td>21</td>\n",
       "      <td>27</td>\n",
       "      <td>13495.0</td>\n",
       "    </tr>\n",
       "    <tr>\n",
       "      <th>1</th>\n",
       "      <td>2</td>\n",
       "      <td>convertible</td>\n",
       "      <td>rwd</td>\n",
       "      <td>four</td>\n",
       "      <td>111</td>\n",
       "      <td>21</td>\n",
       "      <td>27</td>\n",
       "      <td>16500.0</td>\n",
       "    </tr>\n",
       "    <tr>\n",
       "      <th>2</th>\n",
       "      <td>2</td>\n",
       "      <td>hatchback</td>\n",
       "      <td>rwd</td>\n",
       "      <td>six</td>\n",
       "      <td>154</td>\n",
       "      <td>19</td>\n",
       "      <td>26</td>\n",
       "      <td>16500.0</td>\n",
       "    </tr>\n",
       "    <tr>\n",
       "      <th>3</th>\n",
       "      <td>4</td>\n",
       "      <td>sedan</td>\n",
       "      <td>fwd</td>\n",
       "      <td>four</td>\n",
       "      <td>102</td>\n",
       "      <td>24</td>\n",
       "      <td>30</td>\n",
       "      <td>13950.0</td>\n",
       "    </tr>\n",
       "    <tr>\n",
       "      <th>4</th>\n",
       "      <td>4</td>\n",
       "      <td>sedan</td>\n",
       "      <td>4wd</td>\n",
       "      <td>five</td>\n",
       "      <td>115</td>\n",
       "      <td>18</td>\n",
       "      <td>22</td>\n",
       "      <td>17450.0</td>\n",
       "    </tr>\n",
       "  </tbody>\n",
       "</table>\n",
       "</div>"
      ],
      "text/plain": [
       "   doornumber      carbody drivewheel cylindernumber  horsepower  citympg  \\\n",
       "0           2  convertible        rwd           four         111       21   \n",
       "1           2  convertible        rwd           four         111       21   \n",
       "2           2    hatchback        rwd            six         154       19   \n",
       "3           4        sedan        fwd           four         102       24   \n",
       "4           4        sedan        4wd           five         115       18   \n",
       "\n",
       "   highwaympg    price  \n",
       "0          27  13495.0  \n",
       "1          27  16500.0  \n",
       "2          26  16500.0  \n",
       "3          30  13950.0  \n",
       "4          22  17450.0  "
      ]
     },
     "execution_count": 231,
     "metadata": {},
     "output_type": "execute_result"
    }
   ],
   "source": [
    "data.head()"
   ]
  },
  {
   "cell_type": "code",
   "execution_count": 232,
   "id": "d08e6bff",
   "metadata": {},
   "outputs": [
    {
     "data": {
      "text/plain": [
       "doornumber        0\n",
       "carbody           0\n",
       "drivewheel        0\n",
       "cylindernumber    0\n",
       "horsepower        0\n",
       "citympg           0\n",
       "highwaympg        0\n",
       "price             0\n",
       "dtype: int64"
      ]
     },
     "execution_count": 232,
     "metadata": {},
     "output_type": "execute_result"
    }
   ],
   "source": [
    "data.isnull().sum()"
   ]
  },
  {
   "cell_type": "code",
   "execution_count": 233,
   "id": "318f35ed",
   "metadata": {},
   "outputs": [],
   "source": [
    "data1=data\n",
    "data2=data\n",
    "data3=data\n",
    "data4=data"
   ]
  },
  {
   "cell_type": "code",
   "execution_count": 234,
   "id": "f7ba60e9",
   "metadata": {},
   "outputs": [],
   "source": [
    "X=data1[['doornumber', 'carbody', 'drivewheel', 'cylindernumber', 'horsepower', 'citympg', 'highwaympg']]\n",
    "y=data1[['price']]"
   ]
  },
  {
   "cell_type": "code",
   "execution_count": 235,
   "id": "49eb179e",
   "metadata": {},
   "outputs": [],
   "source": [
    "X=pd.get_dummies(data[['doornumber', 'carbody', 'drivewheel', 'cylindernumber', 'horsepower', 'citympg', 'highwaympg']], drop_first=True)"
   ]
  },
  {
   "cell_type": "code",
   "execution_count": 236,
   "id": "456c1307",
   "metadata": {},
   "outputs": [
    {
     "data": {
      "text/html": [
       "<div>\n",
       "<style scoped>\n",
       "    .dataframe tbody tr th:only-of-type {\n",
       "        vertical-align: middle;\n",
       "    }\n",
       "\n",
       "    .dataframe tbody tr th {\n",
       "        vertical-align: top;\n",
       "    }\n",
       "\n",
       "    .dataframe thead th {\n",
       "        text-align: right;\n",
       "    }\n",
       "</style>\n",
       "<table border=\"1\" class=\"dataframe\">\n",
       "  <thead>\n",
       "    <tr style=\"text-align: right;\">\n",
       "      <th></th>\n",
       "      <th>doornumber</th>\n",
       "      <th>horsepower</th>\n",
       "      <th>citympg</th>\n",
       "      <th>highwaympg</th>\n",
       "      <th>carbody_hardtop</th>\n",
       "      <th>carbody_hatchback</th>\n",
       "      <th>carbody_sedan</th>\n",
       "      <th>carbody_wagon</th>\n",
       "      <th>drivewheel_fwd</th>\n",
       "      <th>drivewheel_rwd</th>\n",
       "      <th>cylindernumber_five</th>\n",
       "      <th>cylindernumber_four</th>\n",
       "      <th>cylindernumber_six</th>\n",
       "      <th>cylindernumber_three</th>\n",
       "      <th>cylindernumber_twelve</th>\n",
       "      <th>cylindernumber_two</th>\n",
       "    </tr>\n",
       "  </thead>\n",
       "  <tbody>\n",
       "    <tr>\n",
       "      <th>0</th>\n",
       "      <td>2</td>\n",
       "      <td>111</td>\n",
       "      <td>21</td>\n",
       "      <td>27</td>\n",
       "      <td>0</td>\n",
       "      <td>0</td>\n",
       "      <td>0</td>\n",
       "      <td>0</td>\n",
       "      <td>0</td>\n",
       "      <td>1</td>\n",
       "      <td>0</td>\n",
       "      <td>1</td>\n",
       "      <td>0</td>\n",
       "      <td>0</td>\n",
       "      <td>0</td>\n",
       "      <td>0</td>\n",
       "    </tr>\n",
       "    <tr>\n",
       "      <th>1</th>\n",
       "      <td>2</td>\n",
       "      <td>111</td>\n",
       "      <td>21</td>\n",
       "      <td>27</td>\n",
       "      <td>0</td>\n",
       "      <td>0</td>\n",
       "      <td>0</td>\n",
       "      <td>0</td>\n",
       "      <td>0</td>\n",
       "      <td>1</td>\n",
       "      <td>0</td>\n",
       "      <td>1</td>\n",
       "      <td>0</td>\n",
       "      <td>0</td>\n",
       "      <td>0</td>\n",
       "      <td>0</td>\n",
       "    </tr>\n",
       "    <tr>\n",
       "      <th>2</th>\n",
       "      <td>2</td>\n",
       "      <td>154</td>\n",
       "      <td>19</td>\n",
       "      <td>26</td>\n",
       "      <td>0</td>\n",
       "      <td>1</td>\n",
       "      <td>0</td>\n",
       "      <td>0</td>\n",
       "      <td>0</td>\n",
       "      <td>1</td>\n",
       "      <td>0</td>\n",
       "      <td>0</td>\n",
       "      <td>1</td>\n",
       "      <td>0</td>\n",
       "      <td>0</td>\n",
       "      <td>0</td>\n",
       "    </tr>\n",
       "    <tr>\n",
       "      <th>3</th>\n",
       "      <td>4</td>\n",
       "      <td>102</td>\n",
       "      <td>24</td>\n",
       "      <td>30</td>\n",
       "      <td>0</td>\n",
       "      <td>0</td>\n",
       "      <td>1</td>\n",
       "      <td>0</td>\n",
       "      <td>1</td>\n",
       "      <td>0</td>\n",
       "      <td>0</td>\n",
       "      <td>1</td>\n",
       "      <td>0</td>\n",
       "      <td>0</td>\n",
       "      <td>0</td>\n",
       "      <td>0</td>\n",
       "    </tr>\n",
       "    <tr>\n",
       "      <th>4</th>\n",
       "      <td>4</td>\n",
       "      <td>115</td>\n",
       "      <td>18</td>\n",
       "      <td>22</td>\n",
       "      <td>0</td>\n",
       "      <td>0</td>\n",
       "      <td>1</td>\n",
       "      <td>0</td>\n",
       "      <td>0</td>\n",
       "      <td>0</td>\n",
       "      <td>1</td>\n",
       "      <td>0</td>\n",
       "      <td>0</td>\n",
       "      <td>0</td>\n",
       "      <td>0</td>\n",
       "      <td>0</td>\n",
       "    </tr>\n",
       "    <tr>\n",
       "      <th>...</th>\n",
       "      <td>...</td>\n",
       "      <td>...</td>\n",
       "      <td>...</td>\n",
       "      <td>...</td>\n",
       "      <td>...</td>\n",
       "      <td>...</td>\n",
       "      <td>...</td>\n",
       "      <td>...</td>\n",
       "      <td>...</td>\n",
       "      <td>...</td>\n",
       "      <td>...</td>\n",
       "      <td>...</td>\n",
       "      <td>...</td>\n",
       "      <td>...</td>\n",
       "      <td>...</td>\n",
       "      <td>...</td>\n",
       "    </tr>\n",
       "    <tr>\n",
       "      <th>200</th>\n",
       "      <td>4</td>\n",
       "      <td>114</td>\n",
       "      <td>23</td>\n",
       "      <td>28</td>\n",
       "      <td>0</td>\n",
       "      <td>0</td>\n",
       "      <td>1</td>\n",
       "      <td>0</td>\n",
       "      <td>0</td>\n",
       "      <td>1</td>\n",
       "      <td>0</td>\n",
       "      <td>1</td>\n",
       "      <td>0</td>\n",
       "      <td>0</td>\n",
       "      <td>0</td>\n",
       "      <td>0</td>\n",
       "    </tr>\n",
       "    <tr>\n",
       "      <th>201</th>\n",
       "      <td>4</td>\n",
       "      <td>160</td>\n",
       "      <td>19</td>\n",
       "      <td>25</td>\n",
       "      <td>0</td>\n",
       "      <td>0</td>\n",
       "      <td>1</td>\n",
       "      <td>0</td>\n",
       "      <td>0</td>\n",
       "      <td>1</td>\n",
       "      <td>0</td>\n",
       "      <td>1</td>\n",
       "      <td>0</td>\n",
       "      <td>0</td>\n",
       "      <td>0</td>\n",
       "      <td>0</td>\n",
       "    </tr>\n",
       "    <tr>\n",
       "      <th>202</th>\n",
       "      <td>4</td>\n",
       "      <td>134</td>\n",
       "      <td>18</td>\n",
       "      <td>23</td>\n",
       "      <td>0</td>\n",
       "      <td>0</td>\n",
       "      <td>1</td>\n",
       "      <td>0</td>\n",
       "      <td>0</td>\n",
       "      <td>1</td>\n",
       "      <td>0</td>\n",
       "      <td>0</td>\n",
       "      <td>1</td>\n",
       "      <td>0</td>\n",
       "      <td>0</td>\n",
       "      <td>0</td>\n",
       "    </tr>\n",
       "    <tr>\n",
       "      <th>203</th>\n",
       "      <td>4</td>\n",
       "      <td>106</td>\n",
       "      <td>26</td>\n",
       "      <td>27</td>\n",
       "      <td>0</td>\n",
       "      <td>0</td>\n",
       "      <td>1</td>\n",
       "      <td>0</td>\n",
       "      <td>0</td>\n",
       "      <td>1</td>\n",
       "      <td>0</td>\n",
       "      <td>0</td>\n",
       "      <td>1</td>\n",
       "      <td>0</td>\n",
       "      <td>0</td>\n",
       "      <td>0</td>\n",
       "    </tr>\n",
       "    <tr>\n",
       "      <th>204</th>\n",
       "      <td>4</td>\n",
       "      <td>114</td>\n",
       "      <td>19</td>\n",
       "      <td>25</td>\n",
       "      <td>0</td>\n",
       "      <td>0</td>\n",
       "      <td>1</td>\n",
       "      <td>0</td>\n",
       "      <td>0</td>\n",
       "      <td>1</td>\n",
       "      <td>0</td>\n",
       "      <td>1</td>\n",
       "      <td>0</td>\n",
       "      <td>0</td>\n",
       "      <td>0</td>\n",
       "      <td>0</td>\n",
       "    </tr>\n",
       "  </tbody>\n",
       "</table>\n",
       "<p>205 rows × 16 columns</p>\n",
       "</div>"
      ],
      "text/plain": [
       "     doornumber  horsepower  citympg  highwaympg  carbody_hardtop  \\\n",
       "0             2         111       21          27                0   \n",
       "1             2         111       21          27                0   \n",
       "2             2         154       19          26                0   \n",
       "3             4         102       24          30                0   \n",
       "4             4         115       18          22                0   \n",
       "..          ...         ...      ...         ...              ...   \n",
       "200           4         114       23          28                0   \n",
       "201           4         160       19          25                0   \n",
       "202           4         134       18          23                0   \n",
       "203           4         106       26          27                0   \n",
       "204           4         114       19          25                0   \n",
       "\n",
       "     carbody_hatchback  carbody_sedan  carbody_wagon  drivewheel_fwd  \\\n",
       "0                    0              0              0               0   \n",
       "1                    0              0              0               0   \n",
       "2                    1              0              0               0   \n",
       "3                    0              1              0               1   \n",
       "4                    0              1              0               0   \n",
       "..                 ...            ...            ...             ...   \n",
       "200                  0              1              0               0   \n",
       "201                  0              1              0               0   \n",
       "202                  0              1              0               0   \n",
       "203                  0              1              0               0   \n",
       "204                  0              1              0               0   \n",
       "\n",
       "     drivewheel_rwd  cylindernumber_five  cylindernumber_four  \\\n",
       "0                 1                    0                    1   \n",
       "1                 1                    0                    1   \n",
       "2                 1                    0                    0   \n",
       "3                 0                    0                    1   \n",
       "4                 0                    1                    0   \n",
       "..              ...                  ...                  ...   \n",
       "200               1                    0                    1   \n",
       "201               1                    0                    1   \n",
       "202               1                    0                    0   \n",
       "203               1                    0                    0   \n",
       "204               1                    0                    1   \n",
       "\n",
       "     cylindernumber_six  cylindernumber_three  cylindernumber_twelve  \\\n",
       "0                     0                     0                      0   \n",
       "1                     0                     0                      0   \n",
       "2                     1                     0                      0   \n",
       "3                     0                     0                      0   \n",
       "4                     0                     0                      0   \n",
       "..                  ...                   ...                    ...   \n",
       "200                   0                     0                      0   \n",
       "201                   0                     0                      0   \n",
       "202                   1                     0                      0   \n",
       "203                   1                     0                      0   \n",
       "204                   0                     0                      0   \n",
       "\n",
       "     cylindernumber_two  \n",
       "0                     0  \n",
       "1                     0  \n",
       "2                     0  \n",
       "3                     0  \n",
       "4                     0  \n",
       "..                  ...  \n",
       "200                   0  \n",
       "201                   0  \n",
       "202                   0  \n",
       "203                   0  \n",
       "204                   0  \n",
       "\n",
       "[205 rows x 16 columns]"
      ]
     },
     "execution_count": 236,
     "metadata": {},
     "output_type": "execute_result"
    }
   ],
   "source": [
    "X"
   ]
  },
  {
   "cell_type": "code",
   "execution_count": 237,
   "id": "9999e66d",
   "metadata": {},
   "outputs": [],
   "source": [
    "from sklearn.model_selection import train_test_split\n",
    "X_train,X_test, y_train,y_test=train_test_split(X,y, test_size=.2, random_state=0)"
   ]
  },
  {
   "cell_type": "code",
   "execution_count": 238,
   "id": "d069c8e2",
   "metadata": {},
   "outputs": [
    {
     "data": {
      "text/plain": [
       "LinearRegression()"
      ]
     },
     "execution_count": 238,
     "metadata": {},
     "output_type": "execute_result"
    }
   ],
   "source": [
    "from sklearn.linear_model import LinearRegression #run from the top if it doesnt work.\n",
    "regressor=LinearRegression()\n",
    "regressor.fit(X_train,y_train)"
   ]
  },
  {
   "cell_type": "code",
   "execution_count": 239,
   "id": "54f42a54",
   "metadata": {},
   "outputs": [],
   "source": [
    "y_pred=regressor.predict(X_test)"
   ]
  },
  {
   "cell_type": "code",
   "execution_count": 240,
   "id": "318ad738",
   "metadata": {},
   "outputs": [
    {
     "data": {
      "text/html": [
       "<div>\n",
       "<style scoped>\n",
       "    .dataframe tbody tr th:only-of-type {\n",
       "        vertical-align: middle;\n",
       "    }\n",
       "\n",
       "    .dataframe tbody tr th {\n",
       "        vertical-align: top;\n",
       "    }\n",
       "\n",
       "    .dataframe thead th {\n",
       "        text-align: right;\n",
       "    }\n",
       "</style>\n",
       "<table border=\"1\" class=\"dataframe\">\n",
       "  <thead>\n",
       "    <tr style=\"text-align: right;\">\n",
       "      <th></th>\n",
       "      <th>doornumber</th>\n",
       "      <th>carbody</th>\n",
       "      <th>drivewheel</th>\n",
       "      <th>cylindernumber</th>\n",
       "      <th>horsepower</th>\n",
       "      <th>citympg</th>\n",
       "      <th>highwaympg</th>\n",
       "      <th>price</th>\n",
       "    </tr>\n",
       "  </thead>\n",
       "  <tbody>\n",
       "    <tr>\n",
       "      <th>104</th>\n",
       "      <td>2</td>\n",
       "      <td>hatchback</td>\n",
       "      <td>rwd</td>\n",
       "      <td>six</td>\n",
       "      <td>160</td>\n",
       "      <td>19</td>\n",
       "      <td>25</td>\n",
       "      <td>17199.0</td>\n",
       "    </tr>\n",
       "    <tr>\n",
       "      <th>96</th>\n",
       "      <td>4</td>\n",
       "      <td>sedan</td>\n",
       "      <td>fwd</td>\n",
       "      <td>four</td>\n",
       "      <td>69</td>\n",
       "      <td>31</td>\n",
       "      <td>37</td>\n",
       "      <td>7499.0</td>\n",
       "    </tr>\n",
       "    <tr>\n",
       "      <th>189</th>\n",
       "      <td>2</td>\n",
       "      <td>convertible</td>\n",
       "      <td>fwd</td>\n",
       "      <td>four</td>\n",
       "      <td>90</td>\n",
       "      <td>24</td>\n",
       "      <td>29</td>\n",
       "      <td>11595.0</td>\n",
       "    </tr>\n",
       "    <tr>\n",
       "      <th>180</th>\n",
       "      <td>4</td>\n",
       "      <td>sedan</td>\n",
       "      <td>rwd</td>\n",
       "      <td>six</td>\n",
       "      <td>156</td>\n",
       "      <td>20</td>\n",
       "      <td>24</td>\n",
       "      <td>15690.0</td>\n",
       "    </tr>\n",
       "    <tr>\n",
       "      <th>41</th>\n",
       "      <td>4</td>\n",
       "      <td>sedan</td>\n",
       "      <td>fwd</td>\n",
       "      <td>four</td>\n",
       "      <td>101</td>\n",
       "      <td>24</td>\n",
       "      <td>28</td>\n",
       "      <td>12945.0</td>\n",
       "    </tr>\n",
       "  </tbody>\n",
       "</table>\n",
       "</div>"
      ],
      "text/plain": [
       "     doornumber      carbody drivewheel cylindernumber  horsepower  citympg  \\\n",
       "104           2    hatchback        rwd            six         160       19   \n",
       "96            4        sedan        fwd           four          69       31   \n",
       "189           2  convertible        fwd           four          90       24   \n",
       "180           4        sedan        rwd            six         156       20   \n",
       "41            4        sedan        fwd           four         101       24   \n",
       "\n",
       "     highwaympg    price  \n",
       "104          25  17199.0  \n",
       "96           37   7499.0  \n",
       "189          29  11595.0  \n",
       "180          24  15690.0  \n",
       "41           28  12945.0  "
      ]
     },
     "execution_count": 240,
     "metadata": {},
     "output_type": "execute_result"
    }
   ],
   "source": [
    "data.sample(5)"
   ]
  },
  {
   "cell_type": "code",
   "execution_count": 241,
   "id": "f4a0f432",
   "metadata": {},
   "outputs": [
    {
     "data": {
      "text/plain": [
       "array([[14721.90492275]])"
      ]
     },
     "execution_count": 241,
     "metadata": {},
     "output_type": "execute_result"
    }
   ],
   "source": [
    "regressor.predict([[4,95,28,33, 0,0,1,0, 0,1, 0,1,0,0,0,0]])"
   ]
  },
  {
   "cell_type": "code",
   "execution_count": 242,
   "id": "28fb926a",
   "metadata": {},
   "outputs": [
    {
     "data": {
      "text/plain": [
       "array([[20248.94886447]])"
      ]
     },
     "execution_count": 242,
     "metadata": {},
     "output_type": "execute_result"
    }
   ],
   "source": [
    "regressor.predict([[4,106,26,27, 0,0,1,0, 0,1, 0,0,1,0,0,0]])"
   ]
  },
  {
   "cell_type": "code",
   "execution_count": 243,
   "id": "398b5bf9",
   "metadata": {},
   "outputs": [
    {
     "data": {
      "text/plain": [
       "array([[8308.1077426]])"
      ]
     },
     "execution_count": 243,
     "metadata": {},
     "output_type": "execute_result"
    }
   ],
   "source": [
    "regressor.predict([[4,64,36,42, 0,0,1,0, 1,0, 0,1,0,0,0,0]])"
   ]
  },
  {
   "cell_type": "code",
   "execution_count": 244,
   "id": "b40ac11d",
   "metadata": {},
   "outputs": [
    {
     "data": {
      "text/plain": [
       "array([[6661.43099539]])"
      ]
     },
     "execution_count": 244,
     "metadata": {},
     "output_type": "execute_result"
    }
   ],
   "source": [
    "regressor.predict([[4,56,38,47, 0,1,0,0, 1,0, 0,1,0,0,0,0]])"
   ]
  },
  {
   "cell_type": "code",
   "execution_count": 245,
   "id": "cf6308da",
   "metadata": {},
   "outputs": [
    {
     "data": {
      "text/plain": [
       "array([[15481.83978515]])"
      ]
     },
     "execution_count": 245,
     "metadata": {},
     "output_type": "execute_result"
    }
   ],
   "source": [
    "regressor.predict([[4,114,23,28, 0,0,0,1, 0,1, 0,1,0,0,0,0]])"
   ]
  },
  {
   "cell_type": "code",
   "execution_count": 246,
   "id": "bf92ebea",
   "metadata": {},
   "outputs": [
    {
     "name": "stdout",
     "output_type": "stream",
     "text": [
      "r2-score 0.6585688933532414\n"
     ]
    }
   ],
   "source": [
    "#r2\n",
    "from sklearn.metrics import r2_score\n",
    "print('r2-score', r2_score(y_test, y_pred))"
   ]
  },
  {
   "cell_type": "code",
   "execution_count": 247,
   "id": "3e1e891f",
   "metadata": {},
   "outputs": [
    {
     "name": "stdout",
     "output_type": "stream",
     "text": [
      "5141.240400950332\n"
     ]
    }
   ],
   "source": [
    "from sklearn.metrics import mean_squared_error as msc\n",
    "from math import sqrt\n",
    "rms=sqrt(msc(y_test,y_pred))\n",
    "print(rms)"
   ]
  },
  {
   "cell_type": "code",
   "execution_count": 248,
   "id": "955f4557",
   "metadata": {},
   "outputs": [],
   "source": [
    "#SVR\n",
    "X=data2[['doornumber', 'carbody', 'drivewheel', 'cylindernumber', 'horsepower', 'citympg', 'highwaympg']]\n",
    "y=data2[['price']]\n"
   ]
  },
  {
   "cell_type": "code",
   "execution_count": 256,
   "id": "eb3b10a8",
   "metadata": {},
   "outputs": [],
   "source": [
    "X=pd.get_dummies(data[['doornumber', 'carbody', 'drivewheel', 'cylindernumber', 'horsepower', 'citympg', 'highwaympg']], drop_first=True)"
   ]
  },
  {
   "cell_type": "code",
   "execution_count": null,
   "id": "ca7847d7",
   "metadata": {},
   "outputs": [],
   "source": []
  },
  {
   "cell_type": "code",
   "execution_count": 257,
   "id": "2a7f1a26",
   "metadata": {},
   "outputs": [],
   "source": [
    "from sklearn.model_selection import train_test_split\n",
    "X_train, X_test, y_train, y_test = train_test_split(X, y, test_size = 0.2, random_state = 0)"
   ]
  },
  {
   "cell_type": "code",
   "execution_count": 258,
   "id": "03269335",
   "metadata": {},
   "outputs": [],
   "source": [
    "from sklearn.preprocessing import StandardScaler\n",
    "sc_X=StandardScaler()\n",
    "sc_y=StandardScaler()\n",
    "X_train=sc_X.fit_transform(X_train)\n",
    "y_train=sc_y.fit_transform(y_train)"
   ]
  },
  {
   "cell_type": "code",
   "execution_count": 259,
   "id": "99d93b45",
   "metadata": {},
   "outputs": [
    {
     "name": "stderr",
     "output_type": "stream",
     "text": [
      "C:\\Users\\15024\\anaconda3\\lib\\site-packages\\sklearn\\utils\\validation.py:63: DataConversionWarning: A column-vector y was passed when a 1d array was expected. Please change the shape of y to (n_samples, ), for example using ravel().\n",
      "  return f(*args, **kwargs)\n"
     ]
    },
    {
     "data": {
      "text/plain": [
       "SVR()"
      ]
     },
     "execution_count": 259,
     "metadata": {},
     "output_type": "execute_result"
    }
   ],
   "source": [
    "from sklearn.svm import SVR\n",
    "regressor=SVR(kernel='rbf')\n",
    "regressor.fit(X_train,y_train)"
   ]
  },
  {
   "cell_type": "code",
   "execution_count": 260,
   "id": "66e26311",
   "metadata": {},
   "outputs": [],
   "source": [
    "y_pred=sc_y.inverse_transform(regressor.predict(sc_X.transform(X_test)).reshape(-1,1))"
   ]
  },
  {
   "cell_type": "code",
   "execution_count": 261,
   "id": "9f3ea137",
   "metadata": {},
   "outputs": [
    {
     "data": {
      "text/plain": [
       "array([[13973.24182729]])"
      ]
     },
     "execution_count": 261,
     "metadata": {},
     "output_type": "execute_result"
    }
   ],
   "source": [
    "sc_y.inverse_transform(regressor.predict(sc_X.transform([[4,95,28,33, 0,0,1,0, 0,1, 0,1,0,0,0,0]])).reshape(-1,1))"
   ]
  },
  {
   "cell_type": "code",
   "execution_count": 262,
   "id": "c1702b9f",
   "metadata": {},
   "outputs": [
    {
     "data": {
      "text/plain": [
       "array([[20830.50636679]])"
      ]
     },
     "execution_count": 262,
     "metadata": {},
     "output_type": "execute_result"
    }
   ],
   "source": [
    "sc_y.inverse_transform(regressor.predict(sc_X.transform([[4,106,26,27, 0,0,1,0, 0,1, 0,0,1,0,0,0]])).reshape(-1,1))"
   ]
  },
  {
   "cell_type": "code",
   "execution_count": 263,
   "id": "8cd2f947",
   "metadata": {},
   "outputs": [
    {
     "data": {
      "text/plain": [
       "array([[7428.13344355]])"
      ]
     },
     "execution_count": 263,
     "metadata": {},
     "output_type": "execute_result"
    }
   ],
   "source": [
    "sc_y.inverse_transform(regressor.predict(sc_X.transform([[4,64,36,42, 0,0,1,0, 1,0, 0,1,0,0,0,0]])).reshape(-1,1))"
   ]
  },
  {
   "cell_type": "code",
   "execution_count": 264,
   "id": "c3d2bdf3",
   "metadata": {},
   "outputs": [
    {
     "data": {
      "text/plain": [
       "array([[7012.07160153]])"
      ]
     },
     "execution_count": 264,
     "metadata": {},
     "output_type": "execute_result"
    }
   ],
   "source": [
    "sc_y.inverse_transform(regressor.predict(sc_X.transform([[4,56,38,47, 0,1,0,0, 1,0, 0,1,0,0,0,0]])).reshape(-1,1))"
   ]
  },
  {
   "cell_type": "code",
   "execution_count": 265,
   "id": "9be23250",
   "metadata": {},
   "outputs": [
    {
     "data": {
      "text/plain": [
       "array([[14722.56373746]])"
      ]
     },
     "execution_count": 265,
     "metadata": {},
     "output_type": "execute_result"
    }
   ],
   "source": [
    "sc_y.inverse_transform(regressor.predict(sc_X.transform([[4,114,23,28, 0,0,0,1, 0,1, 0,1,0,0,0,0]])).reshape(-1,1))"
   ]
  },
  {
   "cell_type": "code",
   "execution_count": 266,
   "id": "8ef3da2e",
   "metadata": {},
   "outputs": [
    {
     "name": "stdout",
     "output_type": "stream",
     "text": [
      "4784.345162226141\n"
     ]
    }
   ],
   "source": [
    "from sklearn.metrics import mean_squared_error as msc\n",
    "from math import sqrt\n",
    "rms=sqrt(msc(y_test,y_pred))\n",
    "print(rms)"
   ]
  },
  {
   "cell_type": "code",
   "execution_count": 267,
   "id": "ca49b84c",
   "metadata": {},
   "outputs": [
    {
     "name": "stdout",
     "output_type": "stream",
     "text": [
      "r2-score 0.7043265899227493\n"
     ]
    }
   ],
   "source": [
    "from sklearn.metrics import r2_score\n",
    "print('r2-score', r2_score(y_test, y_pred))"
   ]
  },
  {
   "cell_type": "code",
   "execution_count": 268,
   "id": "68479c6a",
   "metadata": {},
   "outputs": [],
   "source": [
    "# Decision Tree\n",
    "X=data3[['doornumber', 'carbody', 'drivewheel', 'cylindernumber', 'horsepower', 'citympg', 'highwaympg']]\n",
    "y=data3[['price']]"
   ]
  },
  {
   "cell_type": "code",
   "execution_count": 269,
   "id": "f876901e",
   "metadata": {},
   "outputs": [],
   "source": [
    "X=pd.get_dummies(data[['doornumber', 'carbody', 'drivewheel', 'cylindernumber', 'horsepower', 'citympg', 'highwaympg']], drop_first=True)"
   ]
  },
  {
   "cell_type": "code",
   "execution_count": 270,
   "id": "46b07ec5",
   "metadata": {},
   "outputs": [],
   "source": [
    "from sklearn.model_selection import train_test_split\n",
    "X_train, X_test, y_train, y_test = train_test_split(X, y, test_size = 0.2, random_state = 0)"
   ]
  },
  {
   "cell_type": "code",
   "execution_count": 271,
   "id": "5c7a8419",
   "metadata": {},
   "outputs": [],
   "source": [
    "from sklearn.tree import DecisionTreeRegressor\n",
    "from sklearn.tree import plot_tree"
   ]
  },
  {
   "cell_type": "code",
   "execution_count": 272,
   "id": "19845ca8",
   "metadata": {},
   "outputs": [
    {
     "data": {
      "text/plain": [
       "DecisionTreeRegressor(random_state=0)"
      ]
     },
     "execution_count": 272,
     "metadata": {},
     "output_type": "execute_result"
    }
   ],
   "source": [
    "regressor=DecisionTreeRegressor(random_state=0)\n",
    "regressor.fit(X_train,y_train)"
   ]
  },
  {
   "cell_type": "code",
   "execution_count": 273,
   "id": "a15c7d75",
   "metadata": {},
   "outputs": [],
   "source": [
    "y_pred=regressor.predict(X_test)"
   ]
  },
  {
   "cell_type": "code",
   "execution_count": 274,
   "id": "f8778ee1",
   "metadata": {},
   "outputs": [
    {
     "data": {
      "text/plain": [
       "array([16016.66666667])"
      ]
     },
     "execution_count": 274,
     "metadata": {},
     "output_type": "execute_result"
    }
   ],
   "source": [
    "regressor.predict([[4,95,28,33, 0,0,1,0, 0,1, 0,1,0,0,0,0]])"
   ]
  },
  {
   "cell_type": "code",
   "execution_count": 275,
   "id": "dcc3d39a",
   "metadata": {},
   "outputs": [
    {
     "data": {
      "text/plain": [
       "array([22470.])"
      ]
     },
     "execution_count": 275,
     "metadata": {},
     "output_type": "execute_result"
    }
   ],
   "source": [
    "regressor.predict([[4,106,26,27, 0,0,1,0, 0,1, 0,0,1,0,0,0]])"
   ]
  },
  {
   "cell_type": "code",
   "execution_count": 276,
   "id": "7253e079",
   "metadata": {},
   "outputs": [
    {
     "data": {
      "text/plain": [
       "array([10795.])"
      ]
     },
     "execution_count": 276,
     "metadata": {},
     "output_type": "execute_result"
    }
   ],
   "source": [
    "regressor.predict([[4,64,36,42, 0,0,1,0, 1,0, 0,1,0,0,0,0]])"
   ]
  },
  {
   "cell_type": "code",
   "execution_count": 277,
   "id": "546b2d88",
   "metadata": {},
   "outputs": [
    {
     "data": {
      "text/plain": [
       "array([7788.])"
      ]
     },
     "execution_count": 277,
     "metadata": {},
     "output_type": "execute_result"
    }
   ],
   "source": [
    "regressor.predict([[4,56,38,47, 0,1,0,0, 1,0, 0,1,0,0,0,0]])"
   ]
  },
  {
   "cell_type": "code",
   "execution_count": 278,
   "id": "20ebc163",
   "metadata": {},
   "outputs": [
    {
     "data": {
      "text/plain": [
       "array([13415.])"
      ]
     },
     "execution_count": 278,
     "metadata": {},
     "output_type": "execute_result"
    }
   ],
   "source": [
    "regressor.predict([[4,114,23,28, 0,0,0,1, 0,1, 0,1,0,0,0,0]])"
   ]
  },
  {
   "cell_type": "code",
   "execution_count": 279,
   "id": "310e5dad",
   "metadata": {},
   "outputs": [
    {
     "name": "stdout",
     "output_type": "stream",
     "text": [
      "4881.831279787221\n"
     ]
    }
   ],
   "source": [
    "from sklearn.metrics import mean_squared_error as msc\n",
    "from math import sqrt\n",
    "rms=sqrt(msc(y_test,y_pred))\n",
    "print(rms)"
   ]
  },
  {
   "cell_type": "code",
   "execution_count": 280,
   "id": "6cd82fae",
   "metadata": {},
   "outputs": [
    {
     "name": "stdout",
     "output_type": "stream",
     "text": [
      "r2-score 0.6921545111188385\n"
     ]
    }
   ],
   "source": [
    "from sklearn.metrics import r2_score\n",
    "print('r2-score', r2_score(y_test, y_pred))"
   ]
  },
  {
   "cell_type": "code",
   "execution_count": 281,
   "id": "ba91a2fc",
   "metadata": {},
   "outputs": [],
   "source": [
    "# Random Forrest\n",
    "X=data1[['doornumber', 'carbody', 'drivewheel', 'cylindernumber', 'horsepower', 'citympg', 'highwaympg']]\n",
    "y=data1[['price']]"
   ]
  },
  {
   "cell_type": "code",
   "execution_count": 282,
   "id": "e5281dd9",
   "metadata": {},
   "outputs": [],
   "source": [
    "X=pd.get_dummies(data[['doornumber', 'carbody', 'drivewheel', 'cylindernumber', 'horsepower', 'citympg', 'highwaympg']], drop_first=True)"
   ]
  },
  {
   "cell_type": "code",
   "execution_count": 283,
   "id": "e2df2af1",
   "metadata": {},
   "outputs": [],
   "source": [
    "from sklearn.model_selection import train_test_split\n",
    "X_train, X_test, y_train, y_test = train_test_split(X, y, test_size = 0.25, random_state = 0)"
   ]
  },
  {
   "cell_type": "code",
   "execution_count": 284,
   "id": "8316ddf1",
   "metadata": {},
   "outputs": [
    {
     "name": "stderr",
     "output_type": "stream",
     "text": [
      "<ipython-input-284-2ea0e0c5dbb5>:3: DataConversionWarning: A column-vector y was passed when a 1d array was expected. Please change the shape of y to (n_samples,), for example using ravel().\n",
      "  regressor.fit(X_train,y_train)\n"
     ]
    },
    {
     "data": {
      "text/plain": [
       "RandomForestRegressor(n_estimators=20, random_state=0)"
      ]
     },
     "execution_count": 284,
     "metadata": {},
     "output_type": "execute_result"
    }
   ],
   "source": [
    "from sklearn.ensemble import RandomForestRegressor\n",
    "regressor=RandomForestRegressor(n_estimators=20, random_state=0)\n",
    "regressor.fit(X_train,y_train)"
   ]
  },
  {
   "cell_type": "code",
   "execution_count": 285,
   "id": "ed51e4ab",
   "metadata": {},
   "outputs": [],
   "source": [
    "y_pred=regressor.predict(X_test)"
   ]
  },
  {
   "cell_type": "code",
   "execution_count": 286,
   "id": "af6f8dab",
   "metadata": {},
   "outputs": [
    {
     "data": {
      "text/plain": [
       "array([16226.09361472])"
      ]
     },
     "execution_count": 286,
     "metadata": {},
     "output_type": "execute_result"
    }
   ],
   "source": [
    "regressor.predict([[4,95,28,33, 0,0,1,0, 0,1, 0,1,0,0,0,0]])"
   ]
  },
  {
   "cell_type": "code",
   "execution_count": 287,
   "id": "4fa2e44b",
   "metadata": {},
   "outputs": [
    {
     "data": {
      "text/plain": [
       "array([20770.71666667])"
      ]
     },
     "execution_count": 287,
     "metadata": {},
     "output_type": "execute_result"
    }
   ],
   "source": [
    "regressor.predict([[4,106,26,27, 0,0,1,0, 0,1, 0,0,1,0,0,0]])"
   ]
  },
  {
   "cell_type": "code",
   "execution_count": 288,
   "id": "6544d5a1",
   "metadata": {},
   "outputs": [
    {
     "data": {
      "text/plain": [
       "array([10208.85])"
      ]
     },
     "execution_count": 288,
     "metadata": {},
     "output_type": "execute_result"
    }
   ],
   "source": [
    "regressor.predict([[4,64,36,42, 0,0,1,0, 1,0, 0,1,0,0,0,0]])"
   ]
  },
  {
   "cell_type": "code",
   "execution_count": 289,
   "id": "bd4b8d27",
   "metadata": {},
   "outputs": [
    {
     "data": {
      "text/plain": [
       "array([7070.75])"
      ]
     },
     "execution_count": 289,
     "metadata": {},
     "output_type": "execute_result"
    }
   ],
   "source": [
    "regressor.predict([[4,56,38,47, 0,1,0,0, 1,0, 0,1,0,0,0,0]])"
   ]
  },
  {
   "cell_type": "code",
   "execution_count": 290,
   "id": "7c29d118",
   "metadata": {},
   "outputs": [
    {
     "data": {
      "text/plain": [
       "array([14060.83333333])"
      ]
     },
     "execution_count": 290,
     "metadata": {},
     "output_type": "execute_result"
    }
   ],
   "source": [
    "regressor.predict([[4,114,23,28, 0,0,0,1, 0,1, 0,1,0,0,0,0]])"
   ]
  },
  {
   "cell_type": "code",
   "execution_count": 291,
   "id": "97ecb238",
   "metadata": {},
   "outputs": [
    {
     "name": "stdout",
     "output_type": "stream",
     "text": [
      "RMSE=  3197.810789304545\n"
     ]
    }
   ],
   "source": [
    "from sklearn.metrics import mean_squared_error as msc\n",
    "from math import sqrt\n",
    "rms=sqrt(msc(y_test,y_pred))\n",
    "print('RMSE= ',rms)"
   ]
  },
  {
   "cell_type": "code",
   "execution_count": 292,
   "id": "db56c36a",
   "metadata": {},
   "outputs": [
    {
     "name": "stdout",
     "output_type": "stream",
     "text": [
      "r2-score 0.8628635577600399\n"
     ]
    }
   ],
   "source": [
    "from sklearn.metrics import r2_score\n",
    "print('r2-score', r2_score(y_test, y_pred))"
   ]
  },
  {
   "cell_type": "code",
   "execution_count": 293,
   "id": "4171fa2f",
   "metadata": {},
   "outputs": [
    {
     "data": {
      "image/png": "[encoded data removed]",
      "text/plain": [
       "<Figure size 432x288 with 2 Axes>"
      ]
     },
     "metadata": {
      "needs_background": "light"
     },
     "output_type": "display_data"
    }
   ],
   "source": [
    "heat_map=data3[['doornumber', 'carbody', 'drivewheel', 'cylindernumber', 'horsepower', 'citympg', 'highwaympg','price']].corr(method='pearson')\n",
    "cols=['doornumber', 'carbody', 'drivewheel', 'cylindernumber', 'horsepower', 'citympg', 'highwaympg','price']\n",
    "axis=sns.heatmap(heat_map, annot=True)"
   ]
  },
  {
   "cell_type": "code",
   "execution_count": null,
   "id": "818312da",
   "metadata": {},
   "outputs": [],
   "source": []
  }
 ],
 "metadata": {
  "kernelspec": {
   "display_name": "Python 3",
   "language": "python",
   "name": "python3"
  },
  "language_info": {
   "codemirror_mode": {
    "name": "ipython",
    "version": 3
   },
   "file_extension": ".py",
   "mimetype": "text/x-python",
   "name": "python",
   "nbconvert_exporter": "python",
   "pygments_lexer": "ipython3",
   "version": "3.8.8"
  }
 },
 "nbformat": 4,
 "nbformat_minor": 5
}
